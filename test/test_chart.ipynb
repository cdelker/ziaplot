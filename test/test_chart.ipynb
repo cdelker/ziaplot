{
 "cells": [
  {
   "cell_type": "code",
   "execution_count": null,
   "id": "domestic-effectiveness",
   "metadata": {},
   "outputs": [],
   "source": [
    "# Pie charts and Bar Charts"
   ]
  },
  {
   "cell_type": "code",
   "execution_count": 2,
   "id": "intermediate-affairs",
   "metadata": {},
   "outputs": [],
   "source": [
    "import ziaplot as zp"
   ]
  },
  {
   "cell_type": "code",
   "execution_count": 3,
   "id": "dominant-faculty",
   "metadata": {},
   "outputs": [
    {
     "data": {
      "image/svg+xml": [
       "<svg xmlns=\"http://www.w3.org/2000/svg\" height=\"400\" width=\"600\" viewBox=\"0 0 600 400\"><defs><clipPath id=\"axesclip1\"><rect x=\"-10.0\" y=\"-10\" width=\"162.5\" height=\"420\" /></clipPath><clipPath id=\"axesclip2\"><rect x=\"142.5\" y=\"-10\" width=\"162.5\" height=\"420\" /></clipPath><clipPath id=\"axesclip3\"><rect x=\"295.0\" y=\"-10\" width=\"162.5\" height=\"420\" /></clipPath><clipPath id=\"axesclip4\"><rect x=\"447.5\" y=\"-10\" width=\"162.5\" height=\"420\" /></clipPath><clipPath id=\"axesclip5\"><rect x=\"0.0\" y=\"0\" width=\"142.5\" height=\"400\" /></clipPath><clipPath id=\"axesclip6\"><rect x=\"152.5\" y=\"0\" width=\"142.5\" height=\"400\" /></clipPath><clipPath id=\"axesclip7\"><rect x=\"305.0\" y=\"0\" width=\"142.5\" height=\"400\" /></clipPath><clipPath id=\"axesclip8\"><rect x=\"457.5\" y=\"0\" width=\"142.5\" height=\"400\" /></clipPath></defs><g><rect x=\"0.0\" y=\"-10\" width=\"152.5\" height=\"410\" fill=\"none\" stroke=\"none\" stroke-width=\"2\" clip-path=\"url(#axesclip1)\" /><rect x=\"152.5\" y=\"-10\" width=\"152.5\" height=\"410\" fill=\"none\" stroke=\"none\" stroke-width=\"2\" clip-path=\"url(#axesclip2)\" /><rect x=\"305.0\" y=\"-10\" width=\"152.5\" height=\"410\" fill=\"none\" stroke=\"none\" stroke-width=\"2\" clip-path=\"url(#axesclip3)\" /><rect x=\"457.5\" y=\"-10\" width=\"152.5\" height=\"410\" fill=\"none\" stroke=\"none\" stroke-width=\"2\" clip-path=\"url(#axesclip4)\" /><path d=\"M 71.25,200.0 L 71.25,148.75 A 51.25 51.25 0 0 1 119.99164646012662 184.16287903828393 Z\" stroke=\"black\" stroke-width=\"1\" fill=\"#ba0c2f\" clip-path=\"url(#axesclip5)\" /><text x=\"103.72513518915915\" y=\"155.30181106078416\" fill=\"black\" font-size=\"14\" font-family=\"sans-serif\" text-anchor=\"start\" dominant-baseline=\"auto\">20.0%</text><path d=\"M 71.25,200.0 L 119.99164646012662,184.16287903828393 A 51.25 51.25 0 0 1 71.25 251.25 Z\" stroke=\"black\" stroke-width=\"1\" fill=\"#ffc600\" clip-path=\"url(#axesclip5)\" /><text x=\"115.94818893921584\" y=\"232.47513518915915\" fill=\"black\" font-size=\"14\" font-family=\"sans-serif\" text-anchor=\"start\" dominant-baseline=\"hanging\">30.0%</text><path d=\"M 71.25,200.0 L 71.25,251.25 A 51.25 51.25 0 0 1 41.12600582001075 158.53787903828396 Z\" stroke=\"black\" stroke-width=\"1\" fill=\"#007a86\" clip-path=\"url(#axesclip5)\" /><text x=\"18.70412747469277\" y=\"217.07318893921584\" fill=\"black\" font-size=\"14\" font-family=\"sans-serif\" text-anchor=\"end\" dominant-baseline=\"hanging\">40.0%</text><path d=\"M 71.25,200.0 L 41.12600582001075,158.53787903828396 A 51.25 51.25 0 0 1 71.24999999999999 148.75 Z\" stroke=\"black\" stroke-width=\"1\" fill=\"#ed8b00\" clip-path=\"url(#axesclip5)\" /><text x=\"54.176811060784146\" y=\"147.45412747469277\" fill=\"black\" font-size=\"14\" font-family=\"sans-serif\" text-anchor=\"end\" dominant-baseline=\"auto\">10.0%</text></g><g><rect x=\"1.0\" y=\"0.0\" width=\"28.98\" height=\"68.0\" fill=\"none\" stroke=\"black\" stroke-width=\"1\" rx=\"5\" clip-path=\"url(#axesclip5)\" /><text x=\"19.0\" y=\"4\" fill=\"black\" font-size=\"14\" font-family=\"sans-serif\" text-anchor=\"start\" dominant-baseline=\"hanging\">a</text><rect x=\"5.0\" y=\"4\" width=\"10\" height=\"10\" fill=\"#ba0c2f\" stroke=\"black\" stroke-width=\"1\" clip-path=\"url(#axesclip5)\" /><text x=\"19.0\" y=\"20\" fill=\"black\" font-size=\"14\" font-family=\"sans-serif\" text-anchor=\"start\" dominant-baseline=\"hanging\">b</text><rect x=\"5.0\" y=\"20\" width=\"10\" height=\"10\" fill=\"#ffc600\" stroke=\"black\" stroke-width=\"1\" clip-path=\"url(#axesclip5)\" /><text x=\"19.0\" y=\"36\" fill=\"black\" font-size=\"14\" font-family=\"sans-serif\" text-anchor=\"start\" dominant-baseline=\"hanging\">c</text><rect x=\"5.0\" y=\"36\" width=\"10\" height=\"10\" fill=\"#007a86\" stroke=\"black\" stroke-width=\"1\" clip-path=\"url(#axesclip5)\" /><text x=\"19.0\" y=\"52\" fill=\"black\" font-size=\"14\" font-family=\"sans-serif\" text-anchor=\"start\" dominant-baseline=\"hanging\">d</text><rect x=\"5.0\" y=\"52\" width=\"10\" height=\"10\" fill=\"#ed8b00\" stroke=\"black\" stroke-width=\"1\" clip-path=\"url(#axesclip5)\" /><path d=\"M 223.75,200.0 L 223.75,148.75 A 51.25 51.25 0 0 1 272.4916464601266 184.16287903828393 Z\" stroke=\"black\" stroke-width=\"1\" fill=\"#ba0c2f\" clip-path=\"url(#axesclip6)\" /><text x=\"256.2251351891591\" y=\"155.30181106078416\" fill=\"black\" font-size=\"14\" font-family=\"sans-serif\" text-anchor=\"start\" dominant-baseline=\"auto\">20</text><path d=\"M 223.75,200.0 L 272.4916464601266,184.16287903828393 A 51.25 51.25 0 0 1 223.75 251.25 Z\" stroke=\"black\" stroke-width=\"1\" fill=\"#ffc600\" clip-path=\"url(#axesclip6)\" /><text x=\"268.44818893921587\" y=\"232.47513518915915\" fill=\"black\" font-size=\"14\" font-family=\"sans-serif\" text-anchor=\"start\" dominant-baseline=\"hanging\">30</text><path d=\"M 223.75,200.0 L 223.75,251.25 A 51.25 51.25 0 0 1 193.62600582001073 158.53787903828396 Z\" stroke=\"black\" stroke-width=\"1\" fill=\"#007a86\" clip-path=\"url(#axesclip6)\" /><text x=\"171.20412747469277\" y=\"217.07318893921584\" fill=\"black\" font-size=\"14\" font-family=\"sans-serif\" text-anchor=\"end\" dominant-baseline=\"hanging\">40</text><path d=\"M 223.75,200.0 L 193.62600582001073,158.53787903828396 A 51.25 51.25 0 0 1 223.75 148.75 Z\" stroke=\"black\" stroke-width=\"1\" fill=\"#ed8b00\" clip-path=\"url(#axesclip6)\" /><text x=\"206.67681106078413\" y=\"147.45412747469277\" fill=\"black\" font-size=\"14\" font-family=\"sans-serif\" text-anchor=\"end\" dominant-baseline=\"auto\">10</text><path d=\"M 376.25,200.0 L 376.25,148.75 A 51.25 51.25 0 0 1 424.9916464601266 184.16287903828393 Z\" stroke=\"black\" stroke-width=\"1\" fill=\"#ba0c2f\" clip-path=\"url(#axesclip7)\" /><path d=\"M 376.25,200.0 L 424.9916464601266,184.16287903828393 A 51.25 51.25 0 0 1 376.25 251.25 Z\" stroke=\"black\" stroke-width=\"1\" fill=\"#ffc600\" clip-path=\"url(#axesclip7)\" /><path d=\"M 376.25,200.0 L 376.25,251.25 A 51.25 51.25 0 0 1 346.12600582001073 158.53787903828396 Z\" stroke=\"black\" stroke-width=\"1\" fill=\"#007a86\" clip-path=\"url(#axesclip7)\" /><path d=\"M 376.25,200.0 L 346.12600582001073,158.53787903828396 A 51.25 51.25 0 0 1 376.25 148.75 Z\" stroke=\"black\" stroke-width=\"1\" fill=\"#ed8b00\" clip-path=\"url(#axesclip7)\" /><path d=\"M 528.75,200.0 L 528.75,148.75 A 51.25 51.25 0 0 1 577.4916464601266 184.16287903828393 Z\" stroke=\"black\" stroke-width=\"1\" fill=\"#ba0c2f\" clip-path=\"url(#axesclip8)\" /><text x=\"561.2251351891591\" y=\"155.30181106078416\" fill=\"black\" font-size=\"14\" font-family=\"sans-serif\" text-anchor=\"start\" dominant-baseline=\"auto\">a</text><path d=\"M 528.75,200.0 L 577.4916464601266,184.16287903828393 A 51.25 51.25 0 0 1 528.75 251.25 Z\" stroke=\"black\" stroke-width=\"1\" fill=\"#ffc600\" clip-path=\"url(#axesclip8)\" /><text x=\"573.4481889392158\" y=\"232.47513518915915\" fill=\"black\" font-size=\"14\" font-family=\"sans-serif\" text-anchor=\"start\" dominant-baseline=\"hanging\">b</text><path d=\"M 528.75,200.0 L 528.75,251.25 A 51.25 51.25 0 0 1 498.62600582001073 158.53787903828396 Z\" stroke=\"black\" stroke-width=\"1\" fill=\"#007a86\" clip-path=\"url(#axesclip8)\" /><text x=\"476.20412747469277\" y=\"217.07318893921584\" fill=\"black\" font-size=\"14\" font-family=\"sans-serif\" text-anchor=\"end\" dominant-baseline=\"hanging\">c</text><path d=\"M 528.75,200.0 L 498.62600582001073,158.53787903828396 A 51.25 51.25 0 0 1 528.75 148.75 Z\" stroke=\"black\" stroke-width=\"1\" fill=\"#ed8b00\" clip-path=\"url(#axesclip8)\" /><text x=\"511.67681106078413\" y=\"147.45412747469277\" fill=\"black\" font-size=\"14\" font-family=\"sans-serif\" text-anchor=\"end\" dominant-baseline=\"auto\">d</text></g><g><rect x=\"571.02\" y=\"0.0\" width=\"28.98\" height=\"68.0\" fill=\"none\" stroke=\"black\" stroke-width=\"1\" rx=\"5\" clip-path=\"url(#axesclip8)\" /><text x=\"589.02\" y=\"4\" fill=\"black\" font-size=\"14\" font-family=\"sans-serif\" text-anchor=\"start\" dominant-baseline=\"hanging\">a</text><rect x=\"575.02\" y=\"4\" width=\"10\" height=\"10\" fill=\"#ba0c2f\" stroke=\"black\" stroke-width=\"1\" clip-path=\"url(#axesclip8)\" /><text x=\"589.02\" y=\"20\" fill=\"black\" font-size=\"14\" font-family=\"sans-serif\" text-anchor=\"start\" dominant-baseline=\"hanging\">b</text><rect x=\"575.02\" y=\"20\" width=\"10\" height=\"10\" fill=\"#ffc600\" stroke=\"black\" stroke-width=\"1\" clip-path=\"url(#axesclip8)\" /><text x=\"589.02\" y=\"36\" fill=\"black\" font-size=\"14\" font-family=\"sans-serif\" text-anchor=\"start\" dominant-baseline=\"hanging\">c</text><rect x=\"575.02\" y=\"36\" width=\"10\" height=\"10\" fill=\"#007a86\" stroke=\"black\" stroke-width=\"1\" clip-path=\"url(#axesclip8)\" /><text x=\"589.02\" y=\"52\" fill=\"black\" font-size=\"14\" font-family=\"sans-serif\" text-anchor=\"start\" dominant-baseline=\"hanging\">d</text><rect x=\"575.02\" y=\"52\" width=\"10\" height=\"10\" fill=\"#ed8b00\" stroke=\"black\" stroke-width=\"1\" clip-path=\"url(#axesclip8)\" /></g></svg>"
      ],
      "text/plain": [
       "<ziaplot.layout.Hlayout at 0x7c81083b1130>"
      ]
     },
     "execution_count": 3,
     "metadata": {},
     "output_type": "execute_result"
    }
   ],
   "source": [
    "p1 = zp.Pie(labels='percent', legend='left').wedges(20, 30, 40, 10).names('a', 'b', 'c', 'd')\n",
    "p2 = zp.Pie(labels='value', legend=None).wedges(20, 30, 40, 10).names('a', 'b', 'c', 'd')\n",
    "p3 = zp.Pie(labels=None, legend=None).wedges(20, 30, 40, 10).names('a', 'b', 'c', 'd')\n",
    "p4 = zp.Pie(labels='name', legend='right').wedges(20, 30, 40, 10).names('a', 'b', 'c', 'd')\n",
    "zp.Hlayout(p1, p2, p3, p4)"
   ]
  },
  {
   "cell_type": "code",
   "execution_count": 4,
   "id": "prostate-workshop",
   "metadata": {},
   "outputs": [
    {
     "data": {
      "image/svg+xml": [
       "<svg xmlns=\"http://www.w3.org/2000/svg\" height=\"400\" width=\"600\" viewBox=\"0 0 600 400\"><rect width=\"100%\" height=\"100%\" fill=\"none\" /><g><text x=\"300.0\" y=\"0\" fill=\"black\" font-size=\"14\" font-family=\"sans-serif\" text-anchor=\"middle\" dominant-baseline=\"hanging\">Extrude</text><path d=\"M 300.0,207.0 L 300.0,54.0 A 153.0 153.0 0 0 1 450.67558621086783 233.56817118304033 Z\" stroke=\"black\" stroke-width=\"4\" fill=\"#ba0c2f\" /><text x=\"420.2689775696796\" y=\"106.08234527921331\" fill=\"black\" font-size=\"14\" font-family=\"sans-serif\" text-anchor=\"start\" dominant-baseline=\"auto\">a</text><path d=\"M 300.0,207.0 L 450.67558621086783,233.56817118304033 A 153.0 153.0 0 1 1 167.49811322098088 130.5 Z\" stroke=\"blue\" stroke-width=\"2\" fill=\"#ffc600\" /><text x=\"246.30283749787\" y=\"354.5317414633876\" fill=\"black\" font-size=\"14\" font-family=\"sans-serif\" text-anchor=\"end\" dominant-baseline=\"hanging\">b</text><path d=\"M 290.0,189.6794919243112 L 157.49811322098088,113.1794919243112 A 153.0 153.0 0 0 1 290.0 36.67949192431121 Z\" stroke=\"black\" stroke-width=\"1\" fill=\"green\" /><text x=\"211.50000000000006\" y=\"53.7135035301543\" fill=\"black\" font-size=\"14\" font-family=\"sans-serif\" text-anchor=\"end\" dominant-baseline=\"auto\">c</text></g></svg>"
      ],
      "text/plain": [
       "<ziaplot.pie.Pie at 0x7c81083b89a0>"
      ]
     },
     "execution_count": 4,
     "metadata": {},
     "output_type": "execute_result"
    }
   ],
   "source": [
    "p = zp.Pie(title='Extrude')\n",
    "p.wedge(5, 'a', strokewidth=4)\n",
    "p.wedge(10, 'b', strokewidth=2, strokecolor='blue')\n",
    "p.wedge(3, 'c', extrude=True, color='green')\n",
    "p"
   ]
  },
  {
   "cell_type": "code",
   "execution_count": 5,
   "id": "resistant-witch",
   "metadata": {},
   "outputs": [
    {
     "data": {
      "image/svg+xml": [
       "<svg xmlns=\"http://www.w3.org/2000/svg\" height=\"400\" width=\"600\" viewBox=\"0 0 600 400\"><rect width=\"100%\" height=\"100%\" fill=\"none\" /><g><path d=\"M 300.0,200.0 L 300.0,20.0 A 180.0 180.0 0 0 1 405.80134541264516 54.37694101250946 Z\" stroke=\"black\" stroke-width=\"1\" fill=\"#ff0000\" /><text x=\"356.8591269649903\" y=\"25.00560100169173\" fill=\"black\" font-size=\"14\" font-family=\"sans-serif\" text-anchor=\"start\" dominant-baseline=\"auto\">10.0%</text><path d=\"M 300.0,200.0 L 405.80134541264516,54.37694101250946 A 180.0 180.0 0 0 1 471.19017293312766 144.37694101250946 Z\" stroke=\"black\" stroke-width=\"1\" fill=\"#ff1c00\" /><text x=\"448.8591269649903\" y=\"91.84751357818493\" fill=\"black\" font-size=\"14\" font-family=\"sans-serif\" text-anchor=\"start\" dominant-baseline=\"auto\">10.0%</text><path d=\"M 300.0,200.0 L 471.19017293312766,144.37694101250946 A 180.0 180.0 0 0 1 471.19017293312766 255.62305898749054 Z\" stroke=\"black\" stroke-width=\"1\" fill=\"#ff3800\" /><text x=\"484.0\" y=\"200.0\" fill=\"black\" font-size=\"14\" font-family=\"sans-serif\" text-anchor=\"start\" dominant-baseline=\"hanging\">10.0%</text><path d=\"M 300.0,200.0 L 471.19017293312766,255.62305898749054 A 180.0 180.0 0 0 1 405.80134541264516 345.62305898749054 Z\" stroke=\"black\" stroke-width=\"1\" fill=\"#ff5500\" /><text x=\"448.8591269649903\" y=\"308.15248642181507\" fill=\"black\" font-size=\"14\" font-family=\"sans-serif\" text-anchor=\"start\" dominant-baseline=\"hanging\">10.0%</text><path d=\"M 300.0,200.0 L 405.80134541264516,345.62305898749054 A 180.0 180.0 0 0 1 300.0 380.0 Z\" stroke=\"black\" stroke-width=\"1\" fill=\"#ff7100\" /><text x=\"356.8591269649903\" y=\"374.99439899830827\" fill=\"black\" font-size=\"14\" font-family=\"sans-serif\" text-anchor=\"start\" dominant-baseline=\"hanging\">10.0%</text><path d=\"M 300.0,200.0 L 300.0,380.0 A 180.0 180.0 0 0 1 194.19865458735484 345.62305898749054 Z\" stroke=\"black\" stroke-width=\"1\" fill=\"#ff8d00\" /><text x=\"243.1408730350097\" y=\"374.99439899830827\" fill=\"black\" font-size=\"14\" font-family=\"sans-serif\" text-anchor=\"end\" dominant-baseline=\"hanging\">10.0%</text><path d=\"M 300.0,200.0 L 194.19865458735484,345.62305898749054 A 180.0 180.0 0 0 1 128.80982706687237 255.62305898749054 Z\" stroke=\"black\" stroke-width=\"1\" fill=\"#ffaa00\" /><text x=\"151.1408730350097\" y=\"308.15248642181507\" fill=\"black\" font-size=\"14\" font-family=\"sans-serif\" text-anchor=\"end\" dominant-baseline=\"hanging\">10.0%</text><path d=\"M 300.0,200.0 L 128.80982706687237,255.62305898749054 A 180.0 180.0 0 0 1 128.80982706687234 144.3769410125095 Z\" stroke=\"black\" stroke-width=\"1\" fill=\"#ffc600\" /><text x=\"116.0\" y=\"200.00000000000003\" fill=\"black\" font-size=\"14\" font-family=\"sans-serif\" text-anchor=\"end\" dominant-baseline=\"hanging\">10.0%</text><path d=\"M 300.0,200.0 L 128.80982706687234,144.3769410125095 A 180.0 180.0 0 0 1 194.1986545873548 54.37694101250949 Z\" stroke=\"black\" stroke-width=\"1\" fill=\"#ffe200\" /><text x=\"151.14087303500966\" y=\"91.84751357818493\" fill=\"black\" font-size=\"14\" font-family=\"sans-serif\" text-anchor=\"end\" dominant-baseline=\"auto\">10.0%</text><path d=\"M 300.0,200.0 L 194.1986545873548,54.37694101250949 A 180.0 180.0 0 0 1 299.99999999999994 20.0 Z\" stroke=\"black\" stroke-width=\"1\" fill=\"#ffff00\" /><text x=\"243.14087303500963\" y=\"25.00560100169173\" fill=\"black\" font-size=\"14\" font-family=\"sans-serif\" text-anchor=\"end\" dominant-baseline=\"auto\">10.0%</text></g></svg>"
      ],
      "text/plain": [
       "<ziaplot.pie.Pie at 0x7c8108348af0>"
      ]
     },
     "execution_count": 5,
     "metadata": {},
     "output_type": "execute_result"
    }
   ],
   "source": [
    "p = zp.Pie(labels='percent')\n",
    "p.colorfade('#FF0000', '#FFFF00')\n",
    "p.wedges(1,1,1,1,1,1,1,1,1,1)\n",
    "p"
   ]
  },
  {
   "cell_type": "code",
   "execution_count": 6,
   "id": "smoking-suite",
   "metadata": {},
   "outputs": [
    {
     "data": {
      "image/svg+xml": [
       "<svg xmlns=\"http://www.w3.org/2000/svg\" height=\"400\" width=\"600\" viewBox=\"0 0 600 400\"><defs><clipPath id=\"axesclip1\"><rect x=\"-10.0\" y=\"-10\" width=\"162.5\" height=\"420\" /></clipPath><clipPath id=\"axesclip2\"><rect x=\"142.5\" y=\"-10\" width=\"162.5\" height=\"420\" /></clipPath><clipPath id=\"axesclip3\"><rect x=\"295.0\" y=\"-10\" width=\"162.5\" height=\"420\" /></clipPath><clipPath id=\"axesclip4\"><rect x=\"447.5\" y=\"-10\" width=\"162.5\" height=\"420\" /></clipPath><clipPath id=\"axesclip5\"><rect x=\"0.0\" y=\"0\" width=\"142.5\" height=\"400\" /></clipPath><clipPath id=\"axesclip6\"><rect x=\"152.5\" y=\"0\" width=\"142.5\" height=\"400\" /></clipPath><clipPath id=\"axesclip7\"><rect x=\"305.0\" y=\"0\" width=\"142.5\" height=\"400\" /></clipPath><clipPath id=\"axesclip8\"><rect x=\"457.5\" y=\"0\" width=\"142.5\" height=\"400\" /></clipPath></defs><g><rect x=\"0.0\" y=\"-10\" width=\"152.5\" height=\"410\" fill=\"none\" stroke=\"none\" stroke-width=\"2\" clip-path=\"url(#axesclip1)\" /><rect x=\"152.5\" y=\"-10\" width=\"152.5\" height=\"410\" fill=\"none\" stroke=\"none\" stroke-width=\"2\" clip-path=\"url(#axesclip2)\" /><rect x=\"305.0\" y=\"-10\" width=\"152.5\" height=\"410\" fill=\"none\" stroke=\"none\" stroke-width=\"2\" clip-path=\"url(#axesclip3)\" /><rect x=\"457.5\" y=\"-10\" width=\"152.5\" height=\"410\" fill=\"none\" stroke=\"none\" stroke-width=\"2\" clip-path=\"url(#axesclip4)\" /><circle cx=\"71.25\" cy=\"200.0\" r=\"51.25\" stroke=\"black\" fill=\"#ba0c2f\" stroke-width=\"1\" clip-path=\"url(#axesclip5)\" /><text x=\"107.48922253581057\" y=\"163.76077746418946\" fill=\"black\" font-size=\"14\" font-family=\"sans-serif\" text-anchor=\"start\" dominant-baseline=\"auto\">1</text><circle cx=\"223.75\" cy=\"200.0\" r=\"51.25\" stroke=\"black\" fill=\"#ba0c2f\" stroke-width=\"1\" clip-path=\"url(#axesclip6)\" /><text x=\"259.98922253581054\" y=\"163.76077746418946\" fill=\"black\" font-size=\"14\" font-family=\"sans-serif\" text-anchor=\"start\" dominant-baseline=\"auto\">100.0%</text><circle cx=\"376.25\" cy=\"200.0\" r=\"51.25\" stroke=\"black\" fill=\"#ba0c2f\" stroke-width=\"1\" clip-path=\"url(#axesclip7)\" /><text x=\"412.48922253581054\" y=\"163.76077746418946\" fill=\"black\" font-size=\"14\" font-family=\"sans-serif\" text-anchor=\"start\" dominant-baseline=\"auto\">a</text><circle cx=\"528.75\" cy=\"200.0\" r=\"51.25\" stroke=\"black\" fill=\"#ba0c2f\" stroke-width=\"1\" clip-path=\"url(#axesclip8)\" /></g></svg>"
      ],
      "text/plain": [
       "<ziaplot.layout.Hlayout at 0x7c81083597f0>"
      ]
     },
     "execution_count": 6,
     "metadata": {},
     "output_type": "execute_result"
    }
   ],
   "source": [
    "# Single piece\n",
    "p1 = zp.Pie(labels='value').wedge(1, name='a')\n",
    "p2 = zp.Pie(labels='percent').wedge(1, name='a')\n",
    "p3 = zp.Pie(labels='name').wedge(1, name='a')\n",
    "p4 = zp.Pie(labels=None).wedge(1, name='a')\n",
    "zp.Hlayout(p1, p2, p3, p4)"
   ]
  },
  {
   "cell_type": "code",
   "execution_count": 7,
   "id": "affiliated-brazilian",
   "metadata": {},
   "outputs": [
    {
     "data": {
      "image/svg+xml": [
       "<svg xmlns=\"http://www.w3.org/2000/svg\" height=\"400\" width=\"600\" viewBox=\"0 0 600 400\"><defs><clipPath id=\"axesclip1\"><rect x=\"153.668\" y=\"21.0\" width=\"410.688\" height=\"336.0\" /></clipPath></defs><g /><g><rect x=\"153.668\" y=\"21.0\" width=\"410.688\" height=\"336.0\" fill=\"#F6F6F6\" stroke=\"none\" stroke-width=\"2\" /><path d=\"M 153.668,21.0 L 153.668,357.0 564.356,357.0\" stroke=\"black\" stroke-width=\"2.0\" fill=\"none\" /></g><g><path d=\"M 209.1663783783784,357.0 L 209.1663783783784,366.0\" stroke=\"black\" stroke-width=\"2.0\" fill=\"none\" /><text x=\"209.1663783783784\" y=\"370.0\" fill=\"black\" font-size=\"14\" font-family=\"sans-serif\" text-anchor=\"middle\" dominant-baseline=\"hanging\">January</text><path d=\"M 309.06345945945947,357.0 L 309.06345945945947,366.0\" stroke=\"black\" stroke-width=\"2.0\" fill=\"none\" /><text x=\"309.06345945945947\" y=\"370.0\" fill=\"black\" font-size=\"14\" font-family=\"sans-serif\" text-anchor=\"middle\" dominant-baseline=\"hanging\">February</text><path d=\"M 408.96054054054053,357.0 L 408.96054054054053,366.0\" stroke=\"black\" stroke-width=\"2.0\" fill=\"none\" /><text x=\"408.96054054054053\" y=\"370.0\" fill=\"black\" font-size=\"14\" font-family=\"sans-serif\" text-anchor=\"middle\" dominant-baseline=\"hanging\">March</text><path d=\"M 508.8576216216216,357.0 L 508.8576216216216,366.0\" stroke=\"black\" stroke-width=\"2.0\" fill=\"none\" /><text x=\"508.8576216216216\" y=\"370.0\" fill=\"black\" font-size=\"14\" font-family=\"sans-serif\" text-anchor=\"middle\" dominant-baseline=\"hanging\">April</text><path d=\"M 153.668,357.0 L 144.668,357.0\" stroke=\"black\" stroke-width=\"2.0\" fill=\"none\" /><text x=\"140.668\" y=\"357.0\" fill=\"black\" font-size=\"14\" font-family=\"sans-serif\" text-anchor=\"end\" dominant-baseline=\"middle\">0</text><path d=\"M 153.668,309.0 L 564.356,309.0\" stroke=\"lightgray\" stroke-width=\"1.0\" fill=\"none\" stroke-dasharray=\"3.0 4.0\" /><path d=\"M 153.668,309.0 L 144.668,309.0\" stroke=\"black\" stroke-width=\"2.0\" fill=\"none\" /><text x=\"140.668\" y=\"309.0\" fill=\"black\" font-size=\"14\" font-family=\"sans-serif\" text-anchor=\"end\" dominant-baseline=\"middle\">1</text><path d=\"M 153.668,261.0 L 564.356,261.0\" stroke=\"lightgray\" stroke-width=\"1.0\" fill=\"none\" stroke-dasharray=\"3.0 4.0\" /><path d=\"M 153.668,261.0 L 144.668,261.0\" stroke=\"black\" stroke-width=\"2.0\" fill=\"none\" /><text x=\"140.668\" y=\"261.0\" fill=\"black\" font-size=\"14\" font-family=\"sans-serif\" text-anchor=\"end\" dominant-baseline=\"middle\">2</text><path d=\"M 153.668,213.0 L 564.356,213.0\" stroke=\"lightgray\" stroke-width=\"1.0\" fill=\"none\" stroke-dasharray=\"3.0 4.0\" /><path d=\"M 153.668,213.0 L 144.668,213.0\" stroke=\"black\" stroke-width=\"2.0\" fill=\"none\" /><text x=\"140.668\" y=\"213.0\" fill=\"black\" font-size=\"14\" font-family=\"sans-serif\" text-anchor=\"end\" dominant-baseline=\"middle\">3</text><path d=\"M 153.668,165.0 L 564.356,165.0\" stroke=\"lightgray\" stroke-width=\"1.0\" fill=\"none\" stroke-dasharray=\"3.0 4.0\" /><path d=\"M 153.668,165.0 L 144.668,165.0\" stroke=\"black\" stroke-width=\"2.0\" fill=\"none\" /><text x=\"140.668\" y=\"165.0\" fill=\"black\" font-size=\"14\" font-family=\"sans-serif\" text-anchor=\"end\" dominant-baseline=\"middle\">4</text><path d=\"M 153.668,117.0 L 564.356,117.0\" stroke=\"lightgray\" stroke-width=\"1.0\" fill=\"none\" stroke-dasharray=\"3.0 4.0\" /><path d=\"M 153.668,117.0 L 144.668,117.0\" stroke=\"black\" stroke-width=\"2.0\" fill=\"none\" /><text x=\"140.668\" y=\"117.0\" fill=\"black\" font-size=\"14\" font-family=\"sans-serif\" text-anchor=\"end\" dominant-baseline=\"middle\">5</text><path d=\"M 153.668,69.0 L 564.356,69.0\" stroke=\"lightgray\" stroke-width=\"1.0\" fill=\"none\" stroke-dasharray=\"3.0 4.0\" /><path d=\"M 153.668,69.0 L 144.668,69.0\" stroke=\"black\" stroke-width=\"2.0\" fill=\"none\" /><text x=\"140.668\" y=\"69.0\" fill=\"black\" font-size=\"14\" font-family=\"sans-serif\" text-anchor=\"end\" dominant-baseline=\"middle\">6</text><path d=\"M 153.668,21.0 L 144.668,21.0\" stroke=\"black\" stroke-width=\"2.0\" fill=\"none\" /><text x=\"140.668\" y=\"21.0\" fill=\"black\" font-size=\"14\" font-family=\"sans-serif\" text-anchor=\"end\" dominant-baseline=\"middle\">7</text><text x=\"359.012\" y=\"384.0\" fill=\"black\" font-size=\"14\" font-family=\"sans-serif\" text-anchor=\"middle\" dominant-baseline=\"hanging\">Month</text><text x=\"122.68800000000002\" y=\"189.0\" fill=\"black\" font-size=\"14\" font-family=\"sans-serif\" text-anchor=\"middle\" dominant-baseline=\"middle\" transform=\" rotate(-90 122.68800000000002 189.0)\">Number</text></g><g><text x=\"359.012\" y=\"21.0\" fill=\"black\" font-size=\"14\" font-family=\"sans-serif\" text-anchor=\"middle\" dominant-baseline=\"auto\">Fruits</text><rect x=\"164.7676756756757\" y=\"165.0\" width=\"22.19935135135134\" height=\"192.0\" fill=\"#ba0c2f\" stroke=\"black\" stroke-width=\"1\" clip-path=\"url(#axesclip1)\" /><rect x=\"264.6647567567568\" y=\"165.0\" width=\"22.19935135135131\" height=\"192.0\" fill=\"#ba0c2f\" stroke=\"black\" stroke-width=\"1\" clip-path=\"url(#axesclip1)\" /><rect x=\"364.56183783783786\" y=\"117.0\" width=\"22.19935135135131\" height=\"240.0\" fill=\"#ba0c2f\" stroke=\"black\" stroke-width=\"1\" clip-path=\"url(#axesclip1)\" /><rect x=\"464.4589189189189\" y=\"69.0\" width=\"22.19935135135131\" height=\"288.0\" fill=\"#ba0c2f\" stroke=\"black\" stroke-width=\"1\" clip-path=\"url(#axesclip1)\" /><rect x=\"186.96702702702703\" y=\"213.0\" width=\"22.199351351351368\" height=\"144.0\" fill=\"#ffc600\" stroke=\"black\" stroke-width=\"1\" clip-path=\"url(#axesclip1)\" /><rect x=\"286.8641081081081\" y=\"165.0\" width=\"22.199351351351368\" height=\"192.0\" fill=\"#ffc600\" stroke=\"black\" stroke-width=\"1\" clip-path=\"url(#axesclip1)\" /><rect x=\"386.76118918918917\" y=\"165.0\" width=\"22.199351351351368\" height=\"192.0\" fill=\"#ffc600\" stroke=\"black\" stroke-width=\"1\" clip-path=\"url(#axesclip1)\" /><rect x=\"486.65827027027024\" y=\"117.0\" width=\"22.199351351351368\" height=\"240.0\" fill=\"#ffc600\" stroke=\"black\" stroke-width=\"1\" clip-path=\"url(#axesclip1)\" /><rect x=\"209.1663783783784\" y=\"261.0\" width=\"22.19935135135134\" height=\"96.0\" fill=\"#007a86\" stroke=\"black\" stroke-width=\"1\" clip-path=\"url(#axesclip1)\" /><rect x=\"309.06345945945947\" y=\"309.0\" width=\"22.199351351351368\" height=\"48.0\" fill=\"#007a86\" stroke=\"black\" stroke-width=\"1\" clip-path=\"url(#axesclip1)\" /><rect x=\"408.96054054054053\" y=\"117.0\" width=\"22.199351351351368\" height=\"240.0\" fill=\"#007a86\" stroke=\"black\" stroke-width=\"1\" clip-path=\"url(#axesclip1)\" /><rect x=\"508.8576216216216\" y=\"165.0\" width=\"22.199351351351368\" height=\"192.0\" fill=\"#007a86\" stroke=\"black\" stroke-width=\"1\" clip-path=\"url(#axesclip1)\" /><rect x=\"231.36572972972974\" y=\"213.0\" width=\"22.19935135135134\" height=\"144.0\" fill=\"#ed8b00\" stroke=\"black\" stroke-width=\"1\" clip-path=\"url(#axesclip1)\" /><rect x=\"331.26281081081083\" y=\"213.0\" width=\"22.19935135135131\" height=\"144.0\" fill=\"#ed8b00\" stroke=\"black\" stroke-width=\"1\" clip-path=\"url(#axesclip1)\" /><rect x=\"431.1598918918919\" y=\"261.0\" width=\"22.19935135135131\" height=\"96.0\" fill=\"#ed8b00\" stroke=\"black\" stroke-width=\"1\" clip-path=\"url(#axesclip1)\" /><rect x=\"531.056972972973\" y=\"213.0\" width=\"22.19935135135131\" height=\"144.0\" fill=\"#ed8b00\" stroke=\"black\" stroke-width=\"1\" clip-path=\"url(#axesclip1)\" /><rect x=\"18.000000000000014\" y=\"21.0\" width=\"110.688\" height=\"68.0\" fill=\"none\" stroke=\"black\" stroke-width=\"1\" rx=\"5\" /><text x=\"36.000000000000014\" y=\"25.0\" fill=\"black\" font-size=\"14\" font-family=\"sans-serif\" text-anchor=\"start\" dominant-baseline=\"hanging\">Apple</text><rect x=\"22.000000000000014\" y=\"25.0\" width=\"10\" height=\"10\" fill=\"#ba0c2f\" stroke=\"black\" stroke-width=\"1\" /><text x=\"36.000000000000014\" y=\"41.0\" fill=\"black\" font-size=\"14\" font-family=\"sans-serif\" text-anchor=\"start\" dominant-baseline=\"hanging\">Raspberry</text><rect x=\"22.000000000000014\" y=\"41.0\" width=\"10\" height=\"10\" fill=\"#ffc600\" stroke=\"black\" stroke-width=\"1\" /><text x=\"36.000000000000014\" y=\"57.0\" fill=\"black\" font-size=\"14\" font-family=\"sans-serif\" text-anchor=\"start\" dominant-baseline=\"hanging\">Pear</text><rect x=\"22.000000000000014\" y=\"57.0\" width=\"10\" height=\"10\" fill=\"#007a86\" stroke=\"black\" stroke-width=\"1\" /><text x=\"36.000000000000014\" y=\"73.0\" fill=\"black\" font-size=\"14\" font-family=\"sans-serif\" text-anchor=\"start\" dominant-baseline=\"hanging\">Orange</text><rect x=\"22.000000000000014\" y=\"73.0\" width=\"10\" height=\"10\" fill=\"#ed8b00\" stroke=\"black\" stroke-width=\"1\" /></g></svg>"
      ],
      "text/plain": [
       "<ziaplot.bar.BarChart at 0x7c8108353520>"
      ]
     },
     "execution_count": 7,
     "metadata": {},
     "output_type": "execute_result"
    }
   ],
   "source": [
    "p = zp.BarChart(['January', 'February', 'March', 'April'],\n",
    "                title='Fruits', xname='Month', yname='Number')\n",
    "p.bar((4, 4, 5, 6)).name('Apple')\n",
    "p.bar((3, 4, 4, 5)).name('Raspberry')\n",
    "p.bar((2, 1, 5, 4)).name('Pear')\n",
    "p.bar((3, 3, 2, 3)).name('Orange')\n",
    "p"
   ]
  },
  {
   "cell_type": "code",
   "execution_count": 8,
   "id": "accompanied-search",
   "metadata": {},
   "outputs": [
    {
     "data": {
      "image/svg+xml": [
       "<svg xmlns=\"http://www.w3.org/2000/svg\" height=\"400\" width=\"600\" viewBox=\"0 0 600 400\"><defs><clipPath id=\"axesclip1\"><rect x=\"88.12\" y=\"21.0\" width=\"389.192\" height=\"336.0\" /></clipPath></defs><g /><g><rect x=\"88.12\" y=\"21.0\" width=\"389.192\" height=\"336.0\" fill=\"#F6F6F6\" stroke=\"none\" stroke-width=\"2\" /><path d=\"M 88.12,21.0 L 88.12,357.0 477.312,357.0\" stroke=\"black\" stroke-width=\"2.0\" fill=\"none\" /></g><g><path d=\"M 88.12,357.0 L 88.12,366.0\" stroke=\"black\" stroke-width=\"2.0\" fill=\"none\" /><text x=\"88.12\" y=\"370.0\" fill=\"black\" font-size=\"14\" font-family=\"sans-serif\" text-anchor=\"middle\" dominant-baseline=\"hanging\">0</text><path d=\"M 143.71885714285713,357.0 L 143.71885714285713,21.0\" stroke=\"lightgray\" stroke-width=\"1.0\" fill=\"none\" stroke-dasharray=\"3.0 4.0\" /><path d=\"M 143.71885714285713,357.0 L 143.71885714285713,366.0\" stroke=\"black\" stroke-width=\"2.0\" fill=\"none\" /><text x=\"143.71885714285713\" y=\"370.0\" fill=\"black\" font-size=\"14\" font-family=\"sans-serif\" text-anchor=\"middle\" dominant-baseline=\"hanging\">1</text><path d=\"M 199.3177142857143,357.0 L 199.3177142857143,21.0\" stroke=\"lightgray\" stroke-width=\"1.0\" fill=\"none\" stroke-dasharray=\"3.0 4.0\" /><path d=\"M 199.3177142857143,357.0 L 199.3177142857143,366.0\" stroke=\"black\" stroke-width=\"2.0\" fill=\"none\" /><text x=\"199.3177142857143\" y=\"370.0\" fill=\"black\" font-size=\"14\" font-family=\"sans-serif\" text-anchor=\"middle\" dominant-baseline=\"hanging\">2</text><path d=\"M 254.91657142857144,357.0 L 254.91657142857144,21.0\" stroke=\"lightgray\" stroke-width=\"1.0\" fill=\"none\" stroke-dasharray=\"3.0 4.0\" /><path d=\"M 254.91657142857144,357.0 L 254.91657142857144,366.0\" stroke=\"black\" stroke-width=\"2.0\" fill=\"none\" /><text x=\"254.91657142857144\" y=\"370.0\" fill=\"black\" font-size=\"14\" font-family=\"sans-serif\" text-anchor=\"middle\" dominant-baseline=\"hanging\">3</text><path d=\"M 310.5154285714286,357.0 L 310.5154285714286,21.0\" stroke=\"lightgray\" stroke-width=\"1.0\" fill=\"none\" stroke-dasharray=\"3.0 4.0\" /><path d=\"M 310.5154285714286,357.0 L 310.5154285714286,366.0\" stroke=\"black\" stroke-width=\"2.0\" fill=\"none\" /><text x=\"310.5154285714286\" y=\"370.0\" fill=\"black\" font-size=\"14\" font-family=\"sans-serif\" text-anchor=\"middle\" dominant-baseline=\"hanging\">4</text><path d=\"M 366.1142857142857,357.0 L 366.1142857142857,21.0\" stroke=\"lightgray\" stroke-width=\"1.0\" fill=\"none\" stroke-dasharray=\"3.0 4.0\" /><path d=\"M 366.1142857142857,357.0 L 366.1142857142857,366.0\" stroke=\"black\" stroke-width=\"2.0\" fill=\"none\" /><text x=\"366.1142857142857\" y=\"370.0\" fill=\"black\" font-size=\"14\" font-family=\"sans-serif\" text-anchor=\"middle\" dominant-baseline=\"hanging\">5</text><path d=\"M 421.7131428571429,357.0 L 421.7131428571429,21.0\" stroke=\"lightgray\" stroke-width=\"1.0\" fill=\"none\" stroke-dasharray=\"3.0 4.0\" /><path d=\"M 421.7131428571429,357.0 L 421.7131428571429,366.0\" stroke=\"black\" stroke-width=\"2.0\" fill=\"none\" /><text x=\"421.7131428571429\" y=\"370.0\" fill=\"black\" font-size=\"14\" font-family=\"sans-serif\" text-anchor=\"middle\" dominant-baseline=\"hanging\">6</text><path d=\"M 477.312,357.0 L 477.312,366.0\" stroke=\"black\" stroke-width=\"2.0\" fill=\"none\" /><text x=\"477.312\" y=\"370.0\" fill=\"black\" font-size=\"14\" font-family=\"sans-serif\" text-anchor=\"middle\" dominant-baseline=\"hanging\">7</text><path d=\"M 88.12,311.5945945945946 L 79.12,311.5945945945946\" stroke=\"black\" stroke-width=\"2.0\" fill=\"none\" /><text x=\"75.12\" y=\"311.5945945945946\" fill=\"black\" font-size=\"14\" font-family=\"sans-serif\" text-anchor=\"end\" dominant-baseline=\"middle\">January</text><path d=\"M 88.12,229.86486486486487 L 79.12,229.86486486486487\" stroke=\"black\" stroke-width=\"2.0\" fill=\"none\" /><text x=\"75.12\" y=\"229.86486486486487\" fill=\"black\" font-size=\"14\" font-family=\"sans-serif\" text-anchor=\"end\" dominant-baseline=\"middle\">February</text><path d=\"M 88.12,148.13513513513516 L 79.12,148.13513513513516\" stroke=\"black\" stroke-width=\"2.0\" fill=\"none\" /><text x=\"75.12\" y=\"148.13513513513516\" fill=\"black\" font-size=\"14\" font-family=\"sans-serif\" text-anchor=\"end\" dominant-baseline=\"middle\">March</text><path d=\"M 88.12,66.40540540540542 L 79.12,66.40540540540542\" stroke=\"black\" stroke-width=\"2.0\" fill=\"none\" /><text x=\"75.12\" y=\"66.40540540540542\" fill=\"black\" font-size=\"14\" font-family=\"sans-serif\" text-anchor=\"end\" dominant-baseline=\"middle\">April</text><text x=\"282.716\" y=\"384.0\" fill=\"black\" font-size=\"14\" font-family=\"sans-serif\" text-anchor=\"middle\" dominant-baseline=\"hanging\">Month</text><text x=\"8.0\" y=\"189.0\" fill=\"black\" font-size=\"14\" font-family=\"sans-serif\" text-anchor=\"middle\" dominant-baseline=\"middle\" transform=\" rotate(-90 8.0 189.0)\">Number</text></g><g><text x=\"282.716\" y=\"21.0\" fill=\"black\" font-size=\"14\" font-family=\"sans-serif\" text-anchor=\"middle\" dominant-baseline=\"auto\">Fruits</text><rect x=\"88.12\" y=\"329.7567567567568\" width=\"222.39542857142857\" height=\"18.16216216216216\" fill=\"#ba0c2f\" stroke=\"black\" stroke-width=\"1\" clip-path=\"url(#axesclip1)\" /><rect x=\"88.12\" y=\"248.027027027027\" width=\"222.39542857142857\" height=\"18.16216216216216\" fill=\"#ba0c2f\" stroke=\"black\" stroke-width=\"1\" clip-path=\"url(#axesclip1)\" /><rect x=\"88.12\" y=\"166.2972972972973\" width=\"277.9942857142857\" height=\"18.16216216216219\" fill=\"#ba0c2f\" stroke=\"black\" stroke-width=\"1\" clip-path=\"url(#axesclip1)\" /><rect x=\"88.12\" y=\"84.56756756756761\" width=\"333.5931428571429\" height=\"18.162162162162133\" fill=\"#ba0c2f\" stroke=\"black\" stroke-width=\"1\" clip-path=\"url(#axesclip1)\" /><rect x=\"88.12\" y=\"311.5945945945946\" width=\"166.79657142857144\" height=\"18.16216216216216\" fill=\"#ffc600\" stroke=\"black\" stroke-width=\"1\" clip-path=\"url(#axesclip1)\" /><rect x=\"88.12\" y=\"229.86486486486487\" width=\"222.39542857142857\" height=\"18.16216216216216\" fill=\"#ffc600\" stroke=\"black\" stroke-width=\"1\" clip-path=\"url(#axesclip1)\" /><rect x=\"88.12\" y=\"148.13513513513516\" width=\"222.39542857142857\" height=\"18.162162162162133\" fill=\"#ffc600\" stroke=\"black\" stroke-width=\"1\" clip-path=\"url(#axesclip1)\" /><rect x=\"88.12\" y=\"66.40540540540542\" width=\"277.9942857142857\" height=\"18.16216216216219\" fill=\"#ffc600\" stroke=\"black\" stroke-width=\"1\" clip-path=\"url(#axesclip1)\" /><rect x=\"88.12\" y=\"293.4324324324324\" width=\"111.19771428571428\" height=\"18.16216216216216\" fill=\"#007a86\" stroke=\"black\" stroke-width=\"1\" clip-path=\"url(#axesclip1)\" /><rect x=\"88.12\" y=\"211.7027027027027\" width=\"55.59885714285713\" height=\"18.16216216216216\" fill=\"#007a86\" stroke=\"black\" stroke-width=\"1\" clip-path=\"url(#axesclip1)\" /><rect x=\"88.12\" y=\"129.97297297297297\" width=\"277.9942857142857\" height=\"18.16216216216219\" fill=\"#007a86\" stroke=\"black\" stroke-width=\"1\" clip-path=\"url(#axesclip1)\" /><rect x=\"88.12\" y=\"48.24324324324323\" width=\"222.39542857142857\" height=\"18.16216216216219\" fill=\"#007a86\" stroke=\"black\" stroke-width=\"1\" clip-path=\"url(#axesclip1)\" /><rect x=\"88.12\" y=\"275.2702702702703\" width=\"166.79657142857144\" height=\"18.16216216216216\" fill=\"#ed8b00\" stroke=\"black\" stroke-width=\"1\" clip-path=\"url(#axesclip1)\" /><rect x=\"88.12\" y=\"193.54054054054055\" width=\"166.79657142857144\" height=\"18.16216216216216\" fill=\"#ed8b00\" stroke=\"black\" stroke-width=\"1\" clip-path=\"url(#axesclip1)\" /><rect x=\"88.12\" y=\"111.81081081081084\" width=\"111.19771428571428\" height=\"18.162162162162133\" fill=\"#ed8b00\" stroke=\"black\" stroke-width=\"1\" clip-path=\"url(#axesclip1)\" /><rect x=\"88.12\" y=\"30.081081081081095\" width=\"166.79657142857144\" height=\"18.162162162162133\" fill=\"#ed8b00\" stroke=\"black\" stroke-width=\"1\" clip-path=\"url(#axesclip1)\" /><rect x=\"481.312\" y=\"21.0\" width=\"110.688\" height=\"68.0\" fill=\"none\" stroke=\"black\" stroke-width=\"1\" rx=\"5\" /><text x=\"499.312\" y=\"25.0\" fill=\"black\" font-size=\"14\" font-family=\"sans-serif\" text-anchor=\"start\" dominant-baseline=\"hanging\">Apple</text><rect x=\"485.312\" y=\"25.0\" width=\"10\" height=\"10\" fill=\"#ba0c2f\" stroke=\"black\" stroke-width=\"1\" /><text x=\"499.312\" y=\"41.0\" fill=\"black\" font-size=\"14\" font-family=\"sans-serif\" text-anchor=\"start\" dominant-baseline=\"hanging\">Raspberry</text><rect x=\"485.312\" y=\"41.0\" width=\"10\" height=\"10\" fill=\"#ffc600\" stroke=\"black\" stroke-width=\"1\" /><text x=\"499.312\" y=\"57.0\" fill=\"black\" font-size=\"14\" font-family=\"sans-serif\" text-anchor=\"start\" dominant-baseline=\"hanging\">Pear</text><rect x=\"485.312\" y=\"57.0\" width=\"10\" height=\"10\" fill=\"#007a86\" stroke=\"black\" stroke-width=\"1\" /><text x=\"499.312\" y=\"73.0\" fill=\"black\" font-size=\"14\" font-family=\"sans-serif\" text-anchor=\"start\" dominant-baseline=\"hanging\">Orange</text><rect x=\"485.312\" y=\"73.0\" width=\"10\" height=\"10\" fill=\"#ed8b00\" stroke=\"black\" stroke-width=\"1\" /></g></svg>"
      ],
      "text/plain": [
       "<ziaplot.bar.BarChart at 0x7c810835cac0>"
      ]
     },
     "execution_count": 8,
     "metadata": {},
     "output_type": "execute_result"
    }
   ],
   "source": [
    "p = zp.BarChart(['January', 'February', 'March', 'April'], horiz=True,\n",
    "                title='Fruits', xname='Month', yname='Number', legend='right')\n",
    "p.bar((4, 4, 5, 6)).name('Apple')\n",
    "p.bar((3, 4, 4, 5)).name('Raspberry')\n",
    "p.bar((2, 1, 5, 4)).name('Pear')\n",
    "p.bar((3, 3, 2, 3)).name('Orange')\n",
    "p"
   ]
  },
  {
   "cell_type": "code",
   "execution_count": null,
   "id": "legitimate-installation",
   "metadata": {},
   "outputs": [],
   "source": []
  }
 ],
 "metadata": {
  "kernelspec": {
   "display_name": "Python 3",
   "language": "python",
   "name": "python3"
  },
  "language_info": {
   "codemirror_mode": {
    "name": "ipython",
    "version": 3
   },
   "file_extension": ".py",
   "mimetype": "text/x-python",
   "name": "python",
   "nbconvert_exporter": "python",
   "pygments_lexer": "ipython3",
   "version": "3.8.5"
  }
 },
 "nbformat": 4,
 "nbformat_minor": 5
}
